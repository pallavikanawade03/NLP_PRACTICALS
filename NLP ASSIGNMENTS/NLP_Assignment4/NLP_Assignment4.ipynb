{
  "nbformat": 4,
  "nbformat_minor": 0,
  "metadata": {
    "colab": {
      "provenance": []
    },
    "kernelspec": {
      "name": "python3",
      "display_name": "Python 3"
    },
    "language_info": {
      "name": "python"
    }
  },
  "cells": [
    {
      "cell_type": "markdown",
      "source": [
        "**ASS NO-4 Create a transformer from scratch using the Pytorch library**"
      ],
      "metadata": {
        "id": "q6OdgI-9BNmB"
      }
    },
    {
      "cell_type": "code",
      "execution_count": null,
      "metadata": {
        "id": "0jNSl8DYAhO6"
      },
      "outputs": [],
      "source": [
        "import torch\n",
        "import torch.nn as nn\n",
        "import torch.optim as optim\n",
        "import torch.nn.functional as F"
      ]
    },
    {
      "cell_type": "code",
      "source": [
        "# Define a simple Transformer model\n",
        "class SimpleTransformer(nn.Module):\n",
        "    def __init__(self, input_dim, model_dim, num_heads, num_layers, output_dim):\n",
        "        super(SimpleTransformer, self).__init__()\n",
        "        self.embedding = nn.Embedding(input_dim, model_dim)\n",
        "        self.transformer = nn.Transformer(d_model=model_dim, nhead=num_heads, num_encoder_layers=num_layers)\n",
        "        self.fc = nn.Linear(model_dim, output_dim)\n",
        "\n",
        "    def forward(self, src):\n",
        "        src = self.embedding(src)\n",
        "        output = self.transformer(src, src)\n",
        "        output = self.fc(output.mean(dim=1))\n",
        "        return output"
      ],
      "metadata": {
        "id": "ZuNq5SdfBxvj"
      },
      "execution_count": null,
      "outputs": []
    },
    {
      "cell_type": "code",
      "source": [
        "# Hyperparameters\n",
        "input_dim = 1000\n",
        "model_dim = 128\n",
        "num_heads = 4\n",
        "num_layers = 2\n",
        "output_dim = 10"
      ],
      "metadata": {
        "id": "i8nfPazjB11-"
      },
      "execution_count": null,
      "outputs": []
    },
    {
      "cell_type": "code",
      "source": [
        "# Initialize model, loss function, and optimizer\n",
        "model = SimpleTransformer(input_dim, model_dim, num_heads, num_layers, output_dim)\n",
        "criterion = nn.CrossEntropyLoss()\n",
        "optimizer = optim.Adam(model.parameters(), lr=0.001)"
      ],
      "metadata": {
        "colab": {
          "base_uri": "https://localhost:8080/"
        },
        "id": "OuoTIDCUB595",
        "outputId": "2eb1d210-808a-4abc-de54-c3a0607a7e0e"
      },
      "execution_count": null,
      "outputs": [
        {
          "output_type": "stream",
          "name": "stderr",
          "text": [
            "/usr/local/lib/python3.11/dist-packages/torch/nn/modules/transformer.py:379: UserWarning: enable_nested_tensor is True, but self.use_nested_tensor is False because encoder_layer.self_attn.batch_first was not True(use batch_first for better inference performance)\n",
            "  warnings.warn(\n"
          ]
        }
      ]
    },
    {
      "cell_type": "code",
      "source": [
        "# Dummy input for testing\n",
        "sample_input = torch.randint(0, input_dim, (5, 10))  # Batch of 5 sequences, each of length 10\n",
        "output = model(sample_input)\n",
        "print(\"Model Output Shape:\", output.shape)"
      ],
      "metadata": {
        "id": "LA26brUJCA-k",
        "outputId": "18890b00-a73b-4074-a1cb-ebf1bee35278",
        "colab": {
          "base_uri": "https://localhost:8080/"
        }
      },
      "execution_count": null,
      "outputs": [
        {
          "output_type": "stream",
          "name": "stdout",
          "text": [
            "Model Output Shape: torch.Size([5, 10])\n"
          ]
        }
      ]
    }
  ]
}