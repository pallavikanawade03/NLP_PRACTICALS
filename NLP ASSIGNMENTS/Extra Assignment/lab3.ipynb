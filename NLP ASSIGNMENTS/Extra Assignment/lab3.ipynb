{
  "nbformat": 4,
  "nbformat_minor": 0,
  "metadata": {
    "colab": {
      "provenance": []
    },
    "kernelspec": {
      "name": "python3",
      "display_name": "Python 3"
    },
    "language_info": {
      "name": "python"
    }
  },
  "cells": [
    {
      "cell_type": "code",
      "execution_count": 1,
      "metadata": {
        "colab": {
          "base_uri": "https://localhost:8080/"
        },
        "id": "WVQxQB3g_8nr",
        "outputId": "0d6e20af-07fc-451b-8388-3e434caf3472"
      },
      "outputs": [
        {
          "output_type": "stream",
          "name": "stdout",
          "text": [
            "Morphological Analysis using Simulated FST:\n",
            "\n",
            "running → runn + ing\n",
            "happier → happi + er\n",
            "played → play + ed\n",
            "dogs → dog + s\n",
            "unhappy → un + happy\n",
            "prepaid → pre + paid\n",
            "undoing → un + do + ing\n",
            "careful → care + ful\n",
            "reading → re + ad + ing\n"
          ]
        }
      ],
      "source": [
        "# List of sample words to analyze\n",
        "words = [\"running\", \"happier\", \"played\", \"dogs\", \"unhappy\", \"prepaid\", \"undoing\", \"careful\", \"reading\"]\n",
        "\n",
        "# Define common suffixes and prefixes for simple analysis\n",
        "prefixes = [\"un\", \"re\", \"pre\", \"in\", \"dis\"]\n",
        "suffixes = [\"ing\", \"ed\", \"s\", \"er\", \"ful\", \"ness\"]\n",
        "\n",
        "# Simulated FST function for morphological analysis\n",
        "def morphological_analysis(word):\n",
        "    original = word\n",
        "    root = word\n",
        "    detected_prefix = \"\"\n",
        "    detected_suffix = \"\"\n",
        "\n",
        "    # Check for prefix\n",
        "    for prefix in prefixes:\n",
        "        if word.startswith(prefix):\n",
        "            detected_prefix = prefix\n",
        "            root = word[len(prefix):]\n",
        "            break\n",
        "\n",
        "    # Check for suffix\n",
        "    for suffix in suffixes:\n",
        "        if root.endswith(suffix):\n",
        "            detected_suffix = suffix\n",
        "            root = root[:-len(suffix)]\n",
        "            break\n",
        "\n",
        "    # Output in morpheme split format\n",
        "    morphemes = []\n",
        "    if detected_prefix:\n",
        "        morphemes.append(detected_prefix)\n",
        "    morphemes.append(root)\n",
        "    if detected_suffix:\n",
        "        morphemes.append(detected_suffix)\n",
        "\n",
        "    return f\"{original} → {' + '.join(morphemes)}\"\n",
        "\n",
        "# Analyze all words\n",
        "print(\"Morphological Analysis using Simulated FST:\\n\")\n",
        "for w in words:\n",
        "    print(morphological_analysis(w))"
      ]
    },
    {
      "cell_type": "code",
      "source": [],
      "metadata": {
        "id": "yoStqTR4ANCu"
      },
      "execution_count": null,
      "outputs": []
    }
  ]
}