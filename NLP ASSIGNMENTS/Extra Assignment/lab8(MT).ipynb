{
  "nbformat": 4,
  "nbformat_minor": 0,
  "metadata": {
    "colab": {
      "provenance": []
    },
    "kernelspec": {
      "name": "python3",
      "display_name": "Python 3"
    },
    "language_info": {
      "name": "python"
    }
  },
  "cells": [
    {
      "cell_type": "code",
      "execution_count": 1,
      "metadata": {
        "colab": {
          "base_uri": "https://localhost:8080/"
        },
        "id": "zt6gzVFOFFSa",
        "outputId": "83a10363-4172-42c0-ecb5-5cfd973b5b9f"
      },
      "outputs": [
        {
          "output_type": "stream",
          "name": "stdout",
          "text": [
            "Requirement already satisfied: regex in /usr/local/lib/python3.11/dist-packages (2024.11.6)\n"
          ]
        }
      ],
      "source": [
        "pip install regex\n"
      ]
    },
    {
      "cell_type": "code",
      "source": [
        "import re\n",
        "\n",
        "# Step 1: Dictionary for English-to-Hindi word mapping\n",
        "eng_hin_dict = {\n",
        "    'i': 'मैं',\n",
        "    'you': 'तुम',\n",
        "    'he': 'वह',\n",
        "    'she': 'वह',\n",
        "    'eat': 'खाता हूँ',\n",
        "    'eats': 'खाता है',\n",
        "    'like': 'पसंद करता हूँ',\n",
        "    'apples': 'सेब',\n",
        "    'mango': 'आम',\n",
        "    'am': 'हूँ',\n",
        "    'is': 'है',\n",
        "    'a': '',\n",
        "    'teacher': 'अध्यापक',\n",
        "    'student': 'छात्र',\n",
        "    'good': 'अच्छा',\n",
        "    'bad': 'बुरा',\n",
        "    'are': 'हैं'\n",
        "}\n",
        "\n",
        "# Step 2: Grammar Rule – Reordering (SVO → SOV)\n",
        "def translate_sentence(sentence):\n",
        "    sentence = sentence.lower()\n",
        "    words = re.findall(r'\\w+', sentence)\n",
        "\n",
        "    # Map each word using dictionary\n",
        "    translated_words = [eng_hin_dict.get(word, word) for word in words]\n",
        "\n",
        "    # Rule: Subject + Verb + Object → Subject + Object + Verb\n",
        "    if len(translated_words) == 3:\n",
        "        subject, verb, obj = translated_words\n",
        "        return f\"{subject} {obj} {verb}\"\n",
        "    else:\n",
        "        return ' '.join(translated_words)\n",
        "\n",
        "# Step 3: Test the translator\n",
        "examples = [\n",
        "    \"I eat apples\",\n",
        "    \"You like mango\",\n",
        "    \"She is a teacher\",\n",
        "    \"He is good\",\n",
        "    \"I am a student\"\n",
        "]\n"
      ],
      "metadata": {
        "id": "dlB8cC-QFJAP"
      },
      "execution_count": 3,
      "outputs": []
    },
    {
      "cell_type": "code",
      "source": [
        "\n",
        "print(\"\\n English to Hindi Translation (Rule-Based)\\n\")\n",
        "for sentence in examples:\n",
        "    print(f\"{sentence} → {translate_sentence(sentence)}\")\n"
      ],
      "metadata": {
        "colab": {
          "base_uri": "https://localhost:8080/"
        },
        "id": "MU7Hj2DgFTiL",
        "outputId": "092f1e77-9f1d-4050-b47f-4b162b6f7290"
      },
      "execution_count": 5,
      "outputs": [
        {
          "output_type": "stream",
          "name": "stdout",
          "text": [
            "\n",
            " English to Hindi Translation (Rule-Based)\n",
            "\n",
            "I eat apples → मैं सेब खाता हूँ\n",
            "You like mango → तुम आम पसंद करता हूँ\n",
            "She is a teacher → वह है  अध्यापक\n",
            "He is good → वह अच्छा है\n",
            "I am a student → मैं हूँ  छात्र\n"
          ]
        }
      ]
    },
    {
      "cell_type": "code",
      "source": [],
      "metadata": {
        "id": "C8vtXwm9FTwS"
      },
      "execution_count": null,
      "outputs": []
    }
  ]
}