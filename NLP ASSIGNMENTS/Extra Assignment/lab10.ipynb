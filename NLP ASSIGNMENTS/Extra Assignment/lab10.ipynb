{
  "nbformat": 4,
  "nbformat_minor": 0,
  "metadata": {
    "colab": {
      "provenance": []
    },
    "kernelspec": {
      "name": "python3",
      "display_name": "Python 3"
    },
    "language_info": {
      "name": "python"
    }
  },
  "cells": [
    {
      "cell_type": "code",
      "execution_count": 1,
      "metadata": {
        "colab": {
          "base_uri": "https://localhost:8080/"
        },
        "id": "brO9ZLlBF2oa",
        "outputId": "02de9d54-19cb-4a7c-986a-64601c282827"
      },
      "outputs": [
        {
          "output_type": "stream",
          "name": "stderr",
          "text": [
            "[nltk_data] Downloading package wordnet to /root/nltk_data...\n",
            "[nltk_data] Downloading package omw-1.4 to /root/nltk_data...\n",
            "[nltk_data] Downloading package punkt to /root/nltk_data...\n",
            "[nltk_data]   Unzipping tokenizers/punkt.zip.\n"
          ]
        },
        {
          "output_type": "execute_result",
          "data": {
            "text/plain": [
              "True"
            ]
          },
          "metadata": {},
          "execution_count": 1
        }
      ],
      "source": [
        "import nltk\n",
        "nltk.download('wordnet')\n",
        "nltk.download('omw-1.4')\n",
        "nltk.download('punkt')\n"
      ]
    },
    {
      "cell_type": "code",
      "source": [
        "from nltk.corpus import wordnet as wn\n",
        "from nltk.tokenize import word_tokenize\n",
        "from nltk.wsd import lesk\n",
        "\n",
        "# Context sentences\n",
        "sentences = [\n",
        "    \"He went to the bank to deposit his paycheck.\",\n",
        "    \"The river overflowed the bank after the heavy rains.\",\n",
        "    \"The fisherman sat quietly on the bank and waited for a bite.\"\n",
        "]\n",
        "\n",
        "# Target word\n",
        "target_word = \"bank\"\n",
        "\n",
        "print(f\"\\n Word Sense Disambiguation for '{target_word}'\\n\")\n",
        "\n",
        "for i, sentence in enumerate(sentences, 1):\n",
        "    context = word_tokenize(sentence)\n",
        "    sense = lesk(context, target_word)\n",
        "    print(f\"Sentence {i}: {sentence}\")\n",
        "    print(f\"Predicted Sense: {sense}\")\n",
        "    print(f\"Definition: {sense.definition() if sense else 'Not found'}\\n\")\n"
      ],
      "metadata": {
        "colab": {
          "base_uri": "https://localhost:8080/"
        },
        "id": "0asXyv1BF4Z_",
        "outputId": "b6158d6b-77c4-4d85-ca2e-4f5d0de07259"
      },
      "execution_count": 4,
      "outputs": [
        {
          "output_type": "stream",
          "name": "stdout",
          "text": [
            "\n",
            " Word Sense Disambiguation for 'bank'\n",
            "\n",
            "Sentence 1: He went to the bank to deposit his paycheck.\n",
            "Predicted Sense: Synset('bank.v.07')\n",
            "Definition: cover with ashes so to control the rate of burning\n",
            "\n",
            "Sentence 2: The river overflowed the bank after the heavy rains.\n",
            "Predicted Sense: Synset('savings_bank.n.02')\n",
            "Definition: a container (usually with a slot in the top) for keeping money at home\n",
            "\n",
            "Sentence 3: The fisherman sat quietly on the bank and waited for a bite.\n",
            "Predicted Sense: Synset('savings_bank.n.02')\n",
            "Definition: a container (usually with a slot in the top) for keeping money at home\n",
            "\n"
          ]
        }
      ]
    },
    {
      "source": [
        "import nltk\n",
        "nltk.download('wordnet')\n",
        "nltk.download('omw-1.4')\n",
        "nltk.download('punkt')\n",
        "nltk.download('punkt_tab') # Download the missing 'punkt_tab' data"
      ],
      "cell_type": "code",
      "metadata": {
        "colab": {
          "base_uri": "https://localhost:8080/"
        },
        "id": "wWojAf3bGKtE",
        "outputId": "494255ca-34bf-452a-c9c7-9f7a5ebb1cbe"
      },
      "execution_count": 3,
      "outputs": [
        {
          "output_type": "stream",
          "name": "stderr",
          "text": [
            "[nltk_data] Downloading package wordnet to /root/nltk_data...\n",
            "[nltk_data]   Package wordnet is already up-to-date!\n",
            "[nltk_data] Downloading package omw-1.4 to /root/nltk_data...\n",
            "[nltk_data]   Package omw-1.4 is already up-to-date!\n",
            "[nltk_data] Downloading package punkt to /root/nltk_data...\n",
            "[nltk_data]   Package punkt is already up-to-date!\n",
            "[nltk_data] Downloading package punkt_tab to /root/nltk_data...\n",
            "[nltk_data]   Unzipping tokenizers/punkt_tab.zip.\n"
          ]
        },
        {
          "output_type": "execute_result",
          "data": {
            "text/plain": [
              "True"
            ]
          },
          "metadata": {},
          "execution_count": 3
        }
      ]
    },
    {
      "cell_type": "code",
      "source": [],
      "metadata": {
        "id": "E4CsSUCFF61A"
      },
      "execution_count": null,
      "outputs": []
    }
  ]
}