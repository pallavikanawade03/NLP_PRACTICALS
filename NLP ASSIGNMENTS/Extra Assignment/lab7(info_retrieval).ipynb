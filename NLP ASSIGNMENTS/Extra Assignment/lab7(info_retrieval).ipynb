{
  "nbformat": 4,
  "nbformat_minor": 0,
  "metadata": {
    "colab": {
      "provenance": []
    },
    "kernelspec": {
      "name": "python3",
      "display_name": "Python 3"
    },
    "language_info": {
      "name": "python"
    }
  },
  "cells": [
    {
      "cell_type": "code",
      "execution_count": 1,
      "metadata": {
        "colab": {
          "base_uri": "https://localhost:8080/"
        },
        "id": "RAKL6HP1Cq8m",
        "outputId": "bc55ff10-d927-4baf-9d4d-e45940516697"
      },
      "outputs": [
        {
          "output_type": "stream",
          "name": "stdout",
          "text": [
            "Enter your search query: method of data analysis\n",
            "\n",
            "Top Relevant Documents:\n",
            "\n",
            "Document 2 (Score: 0.8340):\n",
            "Machine learning is a method of data analysis.\n",
            "\n",
            "Document 5 (Score: 0.0000):\n",
            "TF-IDF is a statistical measure to evaluate how important a word is in a document.\n",
            "\n",
            "Document 4 (Score: 0.0000):\n",
            "Information retrieval is used in search engines.\n"
          ]
        }
      ],
      "source": [
        "from sklearn.feature_extraction.text import TfidfVectorizer\n",
        "from sklearn.metrics.pairwise import cosine_similarity\n",
        "import numpy as np\n",
        "\n",
        "# Sample document corpus\n",
        "documents = [\n",
        "    \"Natural language processing enables computers to understand human language.\",\n",
        "    \"Machine learning is a method of data analysis.\",\n",
        "    \"Artificial intelligence and machine learning are closely related.\",\n",
        "    \"Information retrieval is used in search engines.\",\n",
        "    \"TF-IDF is a statistical measure to evaluate how important a word is in a document.\"\n",
        "]\n",
        "\n",
        "# Create TF-IDF Vectorizer\n",
        "vectorizer = TfidfVectorizer()\n",
        "\n",
        "# Fit and transform the documents\n",
        "tfidf_matrix = vectorizer.fit_transform(documents)\n",
        "\n",
        "# Function to process query and retrieve most relevant document(s)\n",
        "def search_engine(query, top_n=3):\n",
        "    # Vectorize the query\n",
        "    query_vec = vectorizer.transform([query])\n",
        "\n",
        "    # Compute cosine similarity\n",
        "    similarity_scores = cosine_similarity(query_vec, tfidf_matrix).flatten()\n",
        "\n",
        "    # Get top N results\n",
        "    top_indices = similarity_scores.argsort()[-top_n:][::-1]\n",
        "\n",
        "    print(\"\\nTop Relevant Documents:\")\n",
        "    for idx in top_indices:\n",
        "        print(f\"\\nDocument {idx + 1} (Score: {similarity_scores[idx]:.4f}):\\n{documents[idx]}\")\n",
        "\n",
        "# Example user query\n",
        "user_query = input(\"Enter your search query: \")\n",
        "search_engine(user_query)"
      ]
    },
    {
      "cell_type": "code",
      "source": [],
      "metadata": {
        "id": "35UyFGN-Cuyh"
      },
      "execution_count": null,
      "outputs": []
    }
  ]
}