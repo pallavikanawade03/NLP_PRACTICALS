{
  "cells": [
    {
      "source": [
        "# Importing necessary libraries\n",
        "import nltk\n",
        "import spacy\n",
        "from nltk.tokenize import word_tokenize\n",
        "from nltk.stem import PorterStemmer\n",
        "from nltk.corpus import stopwords, wordnet\n",
        "from nltk.stem import WordNetLemmatizer\n",
        "\n",
        "# Download NLTK data\n",
        "nltk.download('punkt')\n",
        "nltk.download('wordnet')\n",
        "nltk.download('stopwords')\n",
        "nltk.download('omw-1.4')\n",
        "\n",
        "# Load spaCy English model\n",
        "nlp = spacy.load(\"en_core_web_sm\")\n",
        "\n",
        "# Load dataset text from file\n",
        "with open(\"/content/mixed_emails_numbers_hashtags_dataset.txt\", \"r\") as file:\n",
        "    text = file.read()\n",
        "\n",
        "print(\"\\n========== DATASET ==========\\n\")\n",
        "print(text[:1000])\n"
      ],
      "cell_type": "code",
      "metadata": {
        "colab": {
          "base_uri": "https://localhost:8080/"
        },
        "id": "podV5--G7Va9",
        "outputId": "a8056941-7ce8-4c0d-ab59-8e41556279e4"
      },
      "execution_count": 8,
      "outputs": [
        {
          "output_type": "stream",
          "name": "stderr",
          "text": [
            "[nltk_data] Downloading package punkt to /root/nltk_data...\n",
            "[nltk_data]   Package punkt is already up-to-date!\n",
            "[nltk_data] Downloading package wordnet to /root/nltk_data...\n",
            "[nltk_data]   Package wordnet is already up-to-date!\n",
            "[nltk_data] Downloading package stopwords to /root/nltk_data...\n",
            "[nltk_data]   Package stopwords is already up-to-date!\n",
            "[nltk_data] Downloading package omw-1.4 to /root/nltk_data...\n",
            "[nltk_data]   Package omw-1.4 is already up-to-date!\n"
          ]
        },
        {
          "output_type": "stream",
          "name": "stdout",
          "text": [
            "\n",
            "========== DATASET ==========\n",
            "\n",
            "#Reminder History watch course collection someone where material early. Krista Patel (carolyn36@mann.net) confirmed the appointment at 969-821-0810x93513 on 2005-07-11 22:49. #Update Brother themselves be kind environmental grow which show room body. Call us at 379.828.0084 or visit our office at 321 Hayden Key Suite 642\n",
            "New Matthew, MN 92506. You can reach out to Joshua Davis at freemanmarvin@ferrell.com for more information.\n",
            "\n",
            "Call us at 2449701358 or visit our office at 49946 Derrick Loop\n",
            "Christopherview, VT 95861. You can reach out to Lindsay Moore at baldwinsarah@daugherty.com for more information. Andrea Larson (garzajerry@yahoo.com) confirmed the appointment at 878.797.6239 on 1991-08-14 13:12. Call us at 010-663-7360 or visit our office at 39968 Donald Port\n",
            "Leonardberg, CT 88381. Call us at +1-253-488-7482x2450 or visit our office at 66194 Tyler Islands\n",
            "Lake Gary, UT 05767. Call us at (903)935-6013x3404 or visit our office at 337 Wheeler Well\n",
            "Caroltown, AZ 61999. Paul Sullivan (\n"
          ]
        }
      ]
    },
    {
      "cell_type": "code",
      "source": [
        "print(\"\\n========== TEXT PREPROCESSING (NLTK & spaCy) ==========\\n\")\n",
        "\n",
        "# Tokenization (NLTK)\n",
        "tokens = word_tokenize(text)\n",
        "print(\"Tokens:\\n\", tokens[:50])  # print first 50 tokens to avoid large output\n",
        "\n",
        "# Stemming (NLTK)\n",
        "stemmer = PorterStemmer()\n",
        "stemmed_words = [stemmer.stem(word) for word in tokens]\n",
        "print(\"\\nStemmed Words:\\n\", stemmed_words[:50])\n",
        "\n",
        "# Lemmatization (NLTK)\n",
        "lemmatizer = WordNetLemmatizer()\n",
        "lemmatized_words_nltk = [lemmatizer.lemmatize(word) for word in tokens]\n",
        "print(\"\\nLemmatized Words (NLTK):\\n\", lemmatized_words_nltk[:50])\n",
        "\n",
        "# Lemmatization using spaCy\n",
        "doc = nlp(text)\n",
        "lemmatized_words_spacy = [token.lemma_ for token in doc]\n",
        "print(\"\\nLemmatized Words (spaCy):\\n\", lemmatized_words_spacy[:50])\n"
      ],
      "metadata": {
        "colab": {
          "base_uri": "https://localhost:8080/"
        },
        "id": "k8tutAHY86th",
        "outputId": "d5d246e3-9acd-43bf-960c-0076f6efee63"
      },
      "execution_count": 9,
      "outputs": [
        {
          "output_type": "stream",
          "name": "stdout",
          "text": [
            "\n",
            "========== TEXT PREPROCESSING (NLTK & spaCy) ==========\n",
            "\n",
            "Tokens:\n",
            " ['#', 'Reminder', 'History', 'watch', 'course', 'collection', 'someone', 'where', 'material', 'early', '.', 'Krista', 'Patel', '(', 'carolyn36', '@', 'mann.net', ')', 'confirmed', 'the', 'appointment', 'at', '969-821-0810x93513', 'on', '2005-07-11', '22:49', '.', '#', 'Update', 'Brother', 'themselves', 'be', 'kind', 'environmental', 'grow', 'which', 'show', 'room', 'body', '.', 'Call', 'us', 'at', '379.828.0084', 'or', 'visit', 'our', 'office', 'at', '321']\n",
            "\n",
            "Stemmed Words:\n",
            " ['#', 'remind', 'histori', 'watch', 'cours', 'collect', 'someon', 'where', 'materi', 'earli', '.', 'krista', 'patel', '(', 'carolyn36', '@', 'mann.net', ')', 'confirm', 'the', 'appoint', 'at', '969-821-0810x93513', 'on', '2005-07-11', '22:49', '.', '#', 'updat', 'brother', 'themselv', 'be', 'kind', 'environment', 'grow', 'which', 'show', 'room', 'bodi', '.', 'call', 'us', 'at', '379.828.0084', 'or', 'visit', 'our', 'offic', 'at', '321']\n",
            "\n",
            "Lemmatized Words (NLTK):\n",
            " ['#', 'Reminder', 'History', 'watch', 'course', 'collection', 'someone', 'where', 'material', 'early', '.', 'Krista', 'Patel', '(', 'carolyn36', '@', 'mann.net', ')', 'confirmed', 'the', 'appointment', 'at', '969-821-0810x93513', 'on', '2005-07-11', '22:49', '.', '#', 'Update', 'Brother', 'themselves', 'be', 'kind', 'environmental', 'grow', 'which', 'show', 'room', 'body', '.', 'Call', 'u', 'at', '379.828.0084', 'or', 'visit', 'our', 'office', 'at', '321']\n",
            "\n",
            "Lemmatized Words (spaCy):\n",
            " ['#', 'reminder', 'history', 'watch', 'course', 'collection', 'someone', 'where', 'material', 'early', '.', 'Krista', 'Patel', '(', 'carolyn36@mann.net', ')', 'confirm', 'the', 'appointment', 'at', '969', '-', '821', '-', '0810x93513', 'on', '2005', '-', '07', '-', '11', '22:49', '.', '#', 'Update', 'brother', 'themselves', 'be', 'kind', 'environmental', 'grow', 'which', 'show', 'room', 'body', '.', 'call', 'we', 'at', '379.828.0084']\n"
          ]
        }
      ]
    },
    {
      "cell_type": "code",
      "source": [
        "\n",
        "print(\"\\n========== REGULAR EXPRESSIONS ==========\\n\")\n",
        "\n",
        "# Extracting Email Addresses\n",
        "emails = re.findall(r'[a-zA-Z0-9_.+-]+@[a-zA-Z0-9-]+\\.[a-zA-Z0-9-.]+', text)\n",
        "print(\"Email Addresses Found:\\n\", emails)\n",
        "\n",
        "# Extracting Phone Numbers (simple international + local formats)\n",
        "phones = re.findall(r'\\+?\\d[\\d\\s\\-]{8,}\\d', text)\n",
        "print(\"\\nPhone Numbers Found:\\n\", phones)\n",
        "\n",
        "# Extracting Hashtags\n",
        "hashtags = re.findall(r'#\\w+', text)\n",
        "print(\"\\nHashtags Found:\\n\", hashtags)"
      ],
      "metadata": {
        "colab": {
          "base_uri": "https://localhost:8080/"
        },
        "id": "1uzRu18X7Dw-",
        "outputId": "8f07b47d-14d7-4fbb-b3d5-9ad6c3723332"
      },
      "execution_count": 10,
      "outputs": [
        {
          "output_type": "stream",
          "name": "stdout",
          "text": [
            "\n",
            "========== REGULAR EXPRESSIONS ==========\n",
            "\n",
            "Email Addresses Found:\n",
            " ['carolyn36@mann.net', 'freemanmarvin@ferrell.com', 'baldwinsarah@daugherty.com', 'garzajerry@yahoo.com', 'jennifer01@gordon.com', 'cthomas@yahoo.com', 'thuynh@yahoo.com', 'coleerin@yahoo.com', 'charles45@hotmail.com', 'stephanie14@buchanan.com', 'jacquelinephillips@gmail.com', 'kaylasmith@hall.info', 'crystal34@barnett-carroll.info', 'hopkinselizabeth@mcintosh.com', 'carsonamanda@klein.info', 'dwilson@hotmail.com', 'cheneric@yahoo.com', 'patrickcoleman@barnes.com', 'elizabeth38@yahoo.com', 'crystalrivers@wilson.com', 'whitedebbie@carey.org', 'hmiller@hotmail.com', 'christensenteresa@yahoo.com', 'daniel32@yahoo.com', 'tylergarcia@gmail.com', 'copelandkelly@mcclure.info', 'jmason@yahoo.com', 'dschroeder@jones.com', 'christy71@hodges.com', 'jenkinsedward@gmail.com', 'ucraig@guerra.com', 'vstevenson@gmail.com', 'tonifrey@welch.net', 'millsronald@mcdonald-parrish.com', 'csmith@wilson.com', 'sara01@hotmail.com', 'harrisshawn@yahoo.com', 'bcollins@gmail.com', 'williamholmes@lee-mercado.info', 'ashleegood@hotmail.com', 'uflores@gmail.com', 'thinton@hotmail.com', 'alvaradomary@young.com', 'marcus68@yahoo.com', 'clarkmichael@yahoo.com', 'larsonkevin@yahoo.com', 'riveradavid@gmail.com', 'christopher65@cortez.com', 'ochang@yahoo.com', 'garciaalejandra@bailey-mooney.org', 'othompson@gmail.com', 'shawnperez@gmail.com', 'samanthamurray@hotmail.com', 'riverarobert@ruiz.com', 'pattersonbradley@harrison-bennett.com', 'nyork@moore.org', 'ecrawford@hotmail.com', 'andrew54@hotmail.com', 'wbrown@sheppard.com', 'michael36@bryan.com', 'davidperry@gmail.com', 'xkrueger@gmail.com', 'waltersdonna@martinez.com', 'jessica27@ellis.info', 'stewartsharon@skinner.info', 'nathaniel01@mckay-conrad.com', 'wroberts@yahoo.com', 'daniellemcdonald@gmail.com', 'nmcconnell@gmail.com', 'brittanysmall@jones.org', 'megan72@marshall-weeks.info', 'loweryjohnathan@arnold-davis.com', 'russell46@hotmail.com', 'washingtonheather@yahoo.com', 'boydcharles@yahoo.com', 'simmonssteven@ortiz.com', 'kross@hotmail.com', 'davistony@gmail.com', 'thompsonjessica@yahoo.com', 'dan58@yahoo.com', 'dennisalicia@hernandez.net', 'rosselizabeth@yahoo.com', 'villalaura@bullock.com', 'russelljonathan@yahoo.com', 'anthonygarcia@yahoo.com', 'ryan56@hotmail.com', 'danielnunez@gmail.com', 'josephian@gmail.com', 'ruizrichard@yahoo.com', 'owhite@yahoo.com', 'jeffrey61@hotmail.com', 'martinedward@rocha.com', 'michael95@green-dorsey.com', 'kathleen64@cooper.net', 'mmarks@byrd.biz', 'kathryn30@hotmail.com', 'stephaniecarlson@gmail.com', 'jeffrey83@carroll.com', 'hberg@jensen.biz', 'jessica29@long.net', 'bendertimothy@lucero-rivers.com', 'ztodd@gmail.com', 'vramirez@hotmail.com', 'amorrow@gmail.com', 'ortizbianca@yahoo.com', 'vkeller@hotmail.com', 'robert75@gmail.com', 'thomaspedro@yahoo.com', 'jennifer35@hotmail.com', 'mwilson@hotmail.com', 'patriciadixon@lam.biz', 'jennifer72@daugherty.com', 'cynthia07@king-horton.com', 'cromero@gutierrez.com', 'millsrussell@davidson.org', 'darnold@yahoo.com', 'ayalasteven@gay.net']\n",
            "\n",
            "Phone Numbers Found:\n",
            " ['969-821-0810', '2005-07-11 22', '2449701358', '1991-08-14 13', '010-663-7360', '+1-253-488-7482', '+1-091-540-9359', '2018-05-26 06', '+1-275-059-4603', '+1-950-341-0791', '001-831-180-0646', '1975-10-03 21', '2003-02-25 01', '1989-07-26 08', '2022-04-10 08', '978-946-2754', '1972-01-13 04', '414-466-8475', '1984-11-25 09', '199-236-4652', '001-741-264-0641', '2001-01-13 03', '001-301-588-5692', '442-662-8660', '+1-656-298-4657', '1993-03-14 23', '7000964418', '+1-015-177-4240', '1976-06-20 04', '456-104-8254', '2011-10-23 15', '376-384-9729', '137-015-8669', '466-360-6035', '052-602-8974', '2020-05-22 19', '1984-04-22 13', '+1-241-873-4165', '475-359-7248', '1978-10-31 04', '624-127-3838', '5248239659', '2024-08-20 22', '0544705749', '1976-10-07 05', '194-133-3252', '1974-04-20 04', '+1-368-069-4062', '2020-10-12 09', '1975-05-10 23', '445-693-1143', '2008-06-11 07', '2023-11-03 07', '001-635-261-1888', '001-204-679-8512', '1975-03-11 18', '2002-08-23 07', '+1-259-970-5665', '2001-07-06 00', '1992-06-22 02', '+1-064-905-2477', '1984-10-13 09', '2023-11-17 08', '001-744-998-0186', '+1-482-072-6675', '2011-11-01 10', '1981-03-29 16', '675-278-4682', '2016-03-19 15', '1990-02-20 18', '423-304-2753', '2014-05-31 01', '2013-04-26 06', '001-031-782-7977', '+1-119-970-1789', '2005-12-04 15', '1972-04-20 21', '2014-10-22 16', '4885968208', '1980-04-08 14', '5527396686', '1984-12-23 22', '1996-04-06 05', '038-958-0812', '1974-05-04 09', '082-796-2796', '2015-11-18 14', '9676097508', '102-550-9793', '2021-11-25 12', '+1-178-735-1728', '2013-02-15 01', '792-590-8723', '2023-02-12 06', '9548906804', '001-246-235-3075', '+1-777-336-0879', '0129250480', '+1-471-966-7681', '617-341-5416', '1972-04-26 18', '980-295-4044', '1993-07-16 01', '001-702-882-5330', '1984-12-18 22', '2000-10-09 19', '001-103-786-4815', '2005-06-11 19', '1989-05-01 09', '+1-552-510-1121', '+1-895-778-8613', '1994-03-10 07', '1986-05-08 15', '1985-09-24 06', '196-648-0466', '1983-10-04 16', '446-968-6620', '+1-434-961-9329', '2020-12-31 16', '+1-737-362-6236', '472-536-7081', '8270620313', '2009-12-03 14', '001-558-156-3354', '1985-01-29 14', '463-626-8160', '001-387-086-3205']\n",
            "\n",
            "Hashtags Found:\n",
            " ['#Reminder', '#Update', '#Reminder', '#Info', '#Support', '#Support', '#Phone', '#Update', '#Phone', '#Info', '#Reminder', '#ContactUs', '#Phone', '#Tech', '#ContactUs', '#Tech', '#Email', '#Tech', '#Reminder', '#Reminder', '#Reminder', '#Meeting', '#Email', '#Meeting', '#Support', '#ContactUs', '#Email', '#Reminder', '#Phone', '#Phone', '#Tech', '#Email', '#Update', '#FollowUp', '#FollowUp', '#Meeting', '#FollowUp', '#Meeting', '#Tech', '#Info', '#Info', '#Tech', '#Email', '#Tech', '#Update', '#Support', '#FollowUp', '#Email', '#ContactUs', '#Phone', '#Reminder', '#Reminder', '#Phone', '#Reminder', '#Phone', '#Email', '#Tech', '#Support', '#Support', '#Email', '#FollowUp', '#Meeting', '#Email', '#Update', '#Info', '#Email', '#Reminder', '#ContactUs', '#Meeting', '#Reminder', '#FollowUp', '#Meeting', '#Phone', '#Email', '#Support', '#Phone']\n"
          ]
        }
      ]
    },
    {
      "cell_type": "code",
      "source": [],
      "metadata": {
        "id": "cOd2tEXi7EzM"
      },
      "execution_count": null,
      "outputs": []
    }
  ],
  "metadata": {
    "colab": {
      "provenance": []
    },
    "kernelspec": {
      "display_name": "Python 3",
      "name": "python3"
    },
    "language_info": {
      "name": "python"
    }
  },
  "nbformat": 4,
  "nbformat_minor": 0
}