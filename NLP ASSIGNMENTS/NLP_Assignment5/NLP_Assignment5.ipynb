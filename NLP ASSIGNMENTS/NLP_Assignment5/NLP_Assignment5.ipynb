{
  "nbformat": 4,
  "nbformat_minor": 0,
  "metadata": {
    "colab": {
      "provenance": []
    },
    "kernelspec": {
      "name": "python3",
      "display_name": "Python 3"
    },
    "language_info": {
      "name": "python"
    }
  },
  "cells": [
    {
      "cell_type": "markdown",
      "source": [
        "**ASS No-5 Morphology is the study of the way words are built up from smaller meaning bearing units. Study and understand the concepts of morphology by the use of add delete table.**"
      ],
      "metadata": {
        "id": "9FEnM0hfCOzd"
      }
    },
    {
      "cell_type": "code",
      "execution_count": null,
      "metadata": {
        "id": "5bdJs8cSCKmi"
      },
      "outputs": [],
      "source": [
        "def add_delete_table(word, prefix_suffix_pairs):\n",
        "    \"\"\"\n",
        "    Function to generate morphological variations using add-delete table.\n",
        "    :param word: Base word\n",
        "    :param prefix_suffix_pairs: List of (prefix, suffix) tuples to add/delete\n",
        "    :return: List of modified words\n",
        "    \"\"\"\n",
        "    variations = []\n",
        "    for prefix, suffix in prefix_suffix_pairs:\n",
        "        new_word = prefix + word + suffix\n",
        "        variations.append(new_word)\n",
        "    return variations"
      ]
    },
    {
      "cell_type": "code",
      "source": [
        "# Example usage\n",
        "word = input(\"Enter a base word: \")\n",
        "prefix_suffix_pairs = [(\"un\", \"ing\"), (\"re\", \"ed\"), (\"mis\", \"s\"), (\"dis\", \"ment\")]\n",
        "variations = add_delete_table(word, prefix_suffix_pairs)"
      ],
      "metadata": {
        "colab": {
          "base_uri": "https://localhost:8080/"
        },
        "id": "RsK8-JNACkeb",
        "outputId": "f1ade3c4-3273-4d0a-de4a-4111aaa89cf0"
      },
      "execution_count": null,
      "outputs": [
        {
          "name": "stdout",
          "output_type": "stream",
          "text": [
            "Enter a base word: play\n"
          ]
        }
      ]
    },
    {
      "cell_type": "code",
      "source": [
        "# Display results\n",
        "print(\"Morphological Variations:\")\n",
        "for var in variations:\n",
        "    print(var)"
      ],
      "metadata": {
        "colab": {
          "base_uri": "https://localhost:8080/"
        },
        "id": "FFxGmgtCCp75",
        "outputId": "6a182ea4-edd7-4e11-a420-31f7e8cec11b"
      },
      "execution_count": null,
      "outputs": [
        {
          "output_type": "stream",
          "name": "stdout",
          "text": [
            "Morphological Variations:\n",
            "unplaying\n",
            "replayed\n",
            "misplays\n",
            "displayment\n"
          ]
        }
      ]
    }
  ]
}